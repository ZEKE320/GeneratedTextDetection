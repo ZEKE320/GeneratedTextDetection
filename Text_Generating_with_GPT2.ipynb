{
  "nbformat": 4,
  "nbformat_minor": 0,
  "metadata": {
    "colab": {
      "name": "Copy of Train a GPT-2 Text-Generating Model w/ GPU",
      "provenance": [],
      "collapsed_sections": []
    },
    "kernelspec": {
      "display_name": "Python 3",
      "name": "python3"
    },
    "accelerator": "GPU"
  },
  "cells": [
    {
      "cell_type": "markdown",
      "metadata": {
        "id": "H7LoMj4GA4n_"
      },
      "source": [
        "#  Train a GPT-2 Text-Generating Model w/ GPU For Free \n",
        "\n",
        "by [Max Woolf](http://minimaxir.com)\n",
        "\n",
        "*Last updated: February 14th, 2021*\n",
        "\n",
        "Retrain an advanced text generating neural network on any text dataset **for free on a GPU using Collaboratory** using `gpt-2-simple`!\n",
        "\n",
        "For more about `gpt-2-simple`, you can visit [this GitHub repository](https://github.com/minimaxir/gpt-2-simple). You can also read my [blog post](https://minimaxir.com/2019/09/howto-gpt2/) for more information how to use this notebook!\n",
        "\n",
        "\n",
        "To get started:\n",
        "\n",
        "1. Copy this notebook to your Google Drive to keep it and save your changes. (File -> Save a Copy in Drive)\n",
        "2. Make sure you're running the notebook in Google Chrome.\n",
        "3. Run the cells below:\n"
      ]
    },
    {
      "cell_type": "code",
      "metadata": {
        "id": "KBkpRgBCBS2_",
        "colab": {
          "base_uri": "https://localhost:8080/"
        },
        "outputId": "285ed0de-c4c1-44dc-e2f0-510f9c340104"
      },
      "source": [
        "%tensorflow_version 1.x\n",
        "!pip install -q gpt-2-simple\n",
        "import gpt_2_simple as gpt2\n",
        "from datetime import datetime\n",
        "from google.colab import files"
      ],
      "execution_count": null,
      "outputs": [
        {
          "output_type": "stream",
          "name": "stdout",
          "text": [
            "TensorFlow 1.x selected.\n",
            "\u001b[K     |████████████████████████████████| 489.6 MB 22 kB/s \n",
            "\u001b[K     |████████████████████████████████| 463 kB 46.0 MB/s \n",
            "\u001b[K     |████████████████████████████████| 1.3 MB 41.4 MB/s \n",
            "\u001b[K     |████████████████████████████████| 5.8 MB 41.5 MB/s \n",
            "\u001b[?25h  Building wheel for gpt-2-simple (setup.py) ... \u001b[?25l\u001b[?25hdone\n"
          ]
        }
      ]
    },
    {
      "cell_type": "markdown",
      "metadata": {
        "id": "Bj2IJLHP3KwE"
      },
      "source": [
        "## GPU\n",
        "\n",
        "Colaboratory uses either a Nvidia T4 GPU or an Nvidia K80 GPU. The T4 is slightly faster than the old K80 for training GPT-2, and has more memory allowing you to train the larger GPT-2 models and generate more text.\n",
        "\n",
        "You can verify which GPU is active by running the cell below."
      ]
    },
    {
      "cell_type": "code",
      "metadata": {
        "colab": {
          "base_uri": "https://localhost:8080/"
        },
        "id": "sUmTooTW3osf",
        "outputId": "e2e1b03b-fd1f-4762-976a-0ebd5fbb820d"
      },
      "source": [
        "!nvidia-smi"
      ],
      "execution_count": null,
      "outputs": [
        {
          "output_type": "stream",
          "name": "stdout",
          "text": [
            "Wed Dec  8 12:19:25 2021       \n",
            "+-----------------------------------------------------------------------------+\n",
            "| NVIDIA-SMI 495.44       Driver Version: 460.32.03    CUDA Version: 11.2     |\n",
            "|-------------------------------+----------------------+----------------------+\n",
            "| GPU  Name        Persistence-M| Bus-Id        Disp.A | Volatile Uncorr. ECC |\n",
            "| Fan  Temp  Perf  Pwr:Usage/Cap|         Memory-Usage | GPU-Util  Compute M. |\n",
            "|                               |                      |               MIG M. |\n",
            "|===============================+======================+======================|\n",
            "|   0  Tesla K80           Off  | 00000000:00:04.0 Off |                    0 |\n",
            "| N/A   54C    P8    31W / 149W |      0MiB / 11441MiB |      0%      Default |\n",
            "|                               |                      |                  N/A |\n",
            "+-------------------------------+----------------------+----------------------+\n",
            "                                                                               \n",
            "+-----------------------------------------------------------------------------+\n",
            "| Processes:                                                                  |\n",
            "|  GPU   GI   CI        PID   Type   Process name                  GPU Memory |\n",
            "|        ID   ID                                                   Usage      |\n",
            "|=============================================================================|\n",
            "|  No running processes found                                                 |\n",
            "+-----------------------------------------------------------------------------+\n"
          ]
        }
      ]
    },
    {
      "cell_type": "markdown",
      "metadata": {
        "id": "0wXB05bPDYxS"
      },
      "source": [
        "## Downloading GPT-2\n",
        "\n",
        "If you're retraining a model on new text, you need to download the GPT-2 model first. \n",
        "\n",
        "There are three released sizes of GPT-2:\n",
        "\n",
        "* `124M` (default): the \"small\" model, 500MB on disk.\n",
        "* `355M`: the \"medium\" model, 1.5GB on disk.\n",
        "* `774M`: the \"large\" model, cannot currently be finetuned with Colaboratory but can be used to generate text from the pretrained model (see later in Notebook)\n",
        "* `1558M`: the \"extra large\", true model. Will not work if a K80/P4 GPU is attached to the notebook. (like `774M`, it cannot be finetuned).\n",
        "\n",
        "Larger models have more knowledge, but take longer to finetune and longer to generate text. You can specify which base model to use by changing `model_name` in the cells below.\n",
        "\n",
        "The next cell downloads it from Google Cloud Storage and saves it in the Colaboratory VM at `/models/<model_name>`.\n",
        "\n",
        "This model isn't permanently saved in the Colaboratory VM; you'll have to redownload it if you want to retrain it at a later time."
      ]
    },
    {
      "cell_type": "code",
      "metadata": {
        "colab": {
          "base_uri": "https://localhost:8080/"
        },
        "id": "P8wSlgXoDPCR",
        "outputId": "00f686e0-a9d2-4572-93d0-bbcd67e32761"
      },
      "source": [
        "gpt2.download_gpt2(model_name=\"124M\")"
      ],
      "execution_count": null,
      "outputs": [
        {
          "output_type": "stream",
          "name": "stderr",
          "text": [
            "Fetching checkpoint: 1.05Mit [00:00, 439Mit/s]                                                      \n",
            "Fetching encoder.json: 1.05Mit [00:00, 8.36Mit/s]\n",
            "Fetching hparams.json: 1.05Mit [00:00, 622Mit/s]                                                    \n",
            "Fetching model.ckpt.data-00000-of-00001: 498Mit [00:09, 50.1Mit/s]                                  \n",
            "Fetching model.ckpt.index: 1.05Mit [00:00, 515Mit/s]                                                \n",
            "Fetching model.ckpt.meta: 1.05Mit [00:00, 9.91Mit/s]\n",
            "Fetching vocab.bpe: 1.05Mit [00:00, 9.21Mit/s]\n"
          ]
        }
      ]
    },
    {
      "cell_type": "markdown",
      "metadata": {
        "id": "N8KXuKWzQSsN"
      },
      "source": [
        "## Mounting Google Drive\n",
        "\n",
        "The best way to get input text to-be-trained into the Colaboratory VM, and to get the trained model *out* of Colaboratory, is to route it through Google Drive *first*.\n",
        "\n",
        "Running this cell (which will only work in Colaboratory) will mount your personal Google Drive in the VM, which later cells can use to get data in/out. (it will ask for an auth code; that auth is not saved anywhere)"
      ]
    },
    {
      "cell_type": "code",
      "metadata": {
        "colab": {
          "base_uri": "https://localhost:8080/"
        },
        "id": "ggRp3V3EkFpV",
        "outputId": "2e6cca5f-db69-4bdd-ae2e-1a02693c5874"
      },
      "source": [
        "from google.colab import drive\n",
        "drive.mount('/gdrive', force_remount=True)"
      ],
      "execution_count": null,
      "outputs": [
        {
          "output_type": "stream",
          "name": "stdout",
          "text": [
            "Mounted at /gdrive\n"
          ]
        }
      ]
    },
    {
      "cell_type": "code",
      "metadata": {
        "colab": {
          "base_uri": "https://localhost:8080/"
        },
        "id": "idH7CE66ce6z",
        "outputId": "764d765b-d10a-4da2-eb1c-cb60e23d7a34"
      },
      "source": [
        "from google.colab import drive\n",
        "drive.mount('/content/drive')"
      ],
      "execution_count": null,
      "outputs": [
        {
          "output_type": "stream",
          "name": "stdout",
          "text": [
            "Mounted at /content/drive\n"
          ]
        }
      ]
    },
    {
      "cell_type": "code",
      "metadata": {
        "colab": {
          "base_uri": "https://localhost:8080/"
        },
        "id": "puq4iC6vUAHc",
        "outputId": "c56eb705-9dcd-41d0-f660-306ed31e8537"
      },
      "source": [
        "gpt2.mount_gdrive()"
      ],
      "execution_count": null,
      "outputs": [
        {
          "output_type": "stream",
          "name": "stdout",
          "text": [
            "Drive already mounted at /content/drive; to attempt to forcibly remount, call drive.mount(\"/content/drive\", force_remount=True).\n"
          ]
        }
      ]
    },
    {
      "cell_type": "markdown",
      "metadata": {
        "id": "BT__brhBCvJu"
      },
      "source": [
        "## Uploading a Text File to be Trained to Colaboratory\n",
        "\n",
        "In the Colaboratory Notebook sidebar on the left of the screen, select *Files*. From there you can upload files:\n",
        "\n",
        "![alt text](https://i.imgur.com/TGcZT4h.png)\n",
        "\n",
        "Upload **any smaller text file**  (<10 MB) and update the file name in the cell below, then run the cell."
      ]
    },
    {
      "cell_type": "code",
      "metadata": {
        "id": "6OFnPCLADfll"
      },
      "source": [
        "\n",
        "#file_name = 'A00-1001.txt'\n",
        "file_name = '2110.12501_original.txt'"
      ],
      "execution_count": null,
      "outputs": []
    },
    {
      "cell_type": "markdown",
      "metadata": {
        "id": "HeeSKtNWUedE"
      },
      "source": [
        "If your text file is larger than 10MB, it is recommended to upload that file to Google Drive first, then copy that file from Google Drive to the Colaboratory VM."
      ]
    },
    {
      "cell_type": "code",
      "metadata": {
        "id": "-Z6okFD8VKtS"
      },
      "source": [
        "gpt2.copy_file_from_gdrive(file_name)"
      ],
      "execution_count": null,
      "outputs": []
    },
    {
      "cell_type": "code",
      "metadata": {
        "colab": {
          "base_uri": "https://localhost:8080/"
        },
        "id": "h-ocOOyyGfdp",
        "outputId": "c7edf362-e885-485c-ce00-f755ab0ec8d9"
      },
      "source": [
        "#get the length of the dataset and the first k =50 words\n",
        "file = open(file_name, encoding='latin1')\n",
        "data = file.read()\n",
        "words = data.split()\n",
        "\n",
        "print('Number of words in text file :', len(words))\n",
        "substring = data.split()[0:50]\n",
        "#print(substring)\n",
        "seed = ' '.join(substring)\n",
        "print(seed)"
      ],
      "execution_count": null,
      "outputs": [
        {
          "output_type": "stream",
          "name": "stdout",
          "text": [
            "Number of words in text file : 1623\n",
            "ï»¿Abstract Relation extraction in the biomedical domain is a challenging task due to a lack of labeled data and a long-tail distribution of fact triples. Many works leverage distant supervision which automatically generates labeled data by pairing a knowledge graph with raw textual data. Distant supervision produces noisy labels and\n"
          ]
        }
      ]
    },
    {
      "cell_type": "markdown",
      "metadata": {
        "id": "LdpZQXknFNY3"
      },
      "source": [
        "## Finetune GPT-2\n",
        "\n",
        "The next cell will start the actual finetuning of GPT-2. It creates a persistent TensorFlow session which stores the training config, then runs the training for the specified number of `steps`. (to have the finetuning run indefinitely, set `steps = -1`)\n",
        "\n",
        "The model checkpoints will be saved in `/checkpoint/run1` by default. The checkpoints are saved every 500 steps (can be changed) and when the cell is stopped.\n",
        "\n",
        "The training might time out after 4ish hours; make sure you end training and save the results so you don't lose them!\n",
        "\n",
        "**IMPORTANT NOTE:** If you want to rerun this cell, **restart the VM first** (Runtime -> Restart Runtime). You will need to rerun imports but not recopy files.\n",
        "\n",
        "Other optional-but-helpful parameters for `gpt2.finetune`:\n",
        "\n",
        "\n",
        "*  **`restore_from`**: Set to `fresh` to start training from the base GPT-2, or set to `latest` to restart training from an existing checkpoint.\n",
        "* **`sample_every`**: Number of steps to print example output\n",
        "* **`print_every`**: Number of steps to print training progress.\n",
        "* **`learning_rate`**:  Learning rate for the training. (default `1e-4`, can lower to `1e-5` if you have <1MB input data)\n",
        "*  **`run_name`**: subfolder within `checkpoint` to save the model. This is useful if you want to work with multiple models (will also need to specify  `run_name` when loading the model)\n",
        "* **`overwrite`**: Set to `True` if you want to continue finetuning an existing model (w/ `restore_from='latest'`) without creating duplicate copies. "
      ]
    },
    {
      "cell_type": "code",
      "metadata": {
        "id": "7MvTwtE9QSZN"
      },
      "source": [
        "#do not run the following two cells,if you are loading an existing checkpoint"
      ],
      "execution_count": null,
      "outputs": []
    },
    {
      "cell_type": "code",
      "metadata": {
        "colab": {
          "base_uri": "https://localhost:8080/"
        },
        "id": "aeXshJM-Cuaf",
        "outputId": "8c667589-432c-47f3-c74c-1f000ae46ed9"
      },
      "source": [
        "#IMPORTANT NOTE: If you want to rerun this cell, \n",
        "#restart the VM first (Runtime -> Restart Runtime). You will need to rerun imports but not recopy files.\n",
        "sess = gpt2.start_tf_sess()\n",
        "\n",
        "gpt2.finetune(sess,\n",
        "              dataset=file_name,\n",
        "              model_name='124M',\n",
        "              steps=1000,\n",
        "              restore_from='fresh',\n",
        "              run_name='run1',\n",
        "              print_every=10,\n",
        "              sample_every=1000,\n",
        "              save_every=500\n",
        "              )\n",
        "\n",
        "gpt2.copy_checkpoint_to_gdrive(run_name='run1')"
      ],
      "execution_count": null,
      "outputs": [
        {
          "output_type": "stream",
          "name": "stdout",
          "text": [
            "Loading checkpoint models/124M/model.ckpt\n",
            "INFO:tensorflow:Restoring parameters from models/124M/model.ckpt\n",
            "Loading dataset...\n"
          ]
        },
        {
          "output_type": "stream",
          "name": "stderr",
          "text": [
            "100%|██████████| 1/1 [00:00<00:00, 3284.50it/s]"
          ]
        },
        {
          "output_type": "stream",
          "name": "stdout",
          "text": [
            "dataset has 2142 tokens\n",
            "Training...\n"
          ]
        },
        {
          "output_type": "stream",
          "name": "stderr",
          "text": [
            "\n"
          ]
        },
        {
          "output_type": "stream",
          "name": "stdout",
          "text": [
            "[10 | 49.47] loss=1.38 avg=1.38\n",
            "[20 | 93.70] loss=0.26 avg=0.82\n",
            "[30 | 137.69] loss=0.03 avg=0.55\n",
            "[40 | 181.59] loss=0.02 avg=0.42\n",
            "[50 | 225.50] loss=0.03 avg=0.34\n",
            "[60 | 269.36] loss=0.02 avg=0.28\n",
            "[70 | 313.25] loss=0.01 avg=0.24\n",
            "[80 | 357.06] loss=0.02 avg=0.22\n",
            "[90 | 400.91] loss=0.01 avg=0.19\n",
            "[100 | 444.81] loss=0.01 avg=0.17\n",
            "[110 | 488.83] loss=0.01 avg=0.16\n",
            "[120 | 532.71] loss=0.01 avg=0.15\n",
            "[130 | 576.60] loss=0.01 avg=0.13\n",
            "[140 | 620.62] loss=0.01 avg=0.12\n",
            "[150 | 664.58] loss=0.01 avg=0.12\n",
            "[160 | 708.51] loss=0.01 avg=0.11\n",
            "[170 | 752.76] loss=0.01 avg=0.10\n",
            "[180 | 796.89] loss=0.01 avg=0.10\n",
            "[190 | 840.87] loss=0.01 avg=0.09\n",
            "[200 | 884.83] loss=0.01 avg=0.09\n",
            "[210 | 928.80] loss=0.01 avg=0.08\n",
            "[220 | 972.80] loss=0.01 avg=0.08\n",
            "[230 | 1016.74] loss=0.01 avg=0.08\n",
            "[240 | 1060.72] loss=0.01 avg=0.07\n",
            "[250 | 1104.69] loss=0.01 avg=0.07\n",
            "[260 | 1148.79] loss=0.01 avg=0.07\n",
            "[270 | 1192.73] loss=0.01 avg=0.07\n",
            "[280 | 1236.68] loss=0.01 avg=0.06\n",
            "[290 | 1280.62] loss=0.01 avg=0.06\n",
            "[300 | 1324.53] loss=0.01 avg=0.06\n",
            "[310 | 1368.59] loss=0.01 avg=0.06\n",
            "[320 | 1413.04] loss=0.01 avg=0.05\n",
            "[330 | 1457.60] loss=0.01 avg=0.05\n",
            "[340 | 1502.18] loss=0.01 avg=0.05\n",
            "[350 | 1546.76] loss=0.01 avg=0.05\n",
            "[360 | 1591.37] loss=0.00 avg=0.05\n",
            "[370 | 1635.96] loss=0.01 avg=0.05\n",
            "[380 | 1680.58] loss=0.01 avg=0.05\n",
            "[390 | 1725.14] loss=0.01 avg=0.04\n",
            "[400 | 1769.72] loss=0.00 avg=0.04\n",
            "[410 | 1814.26] loss=0.01 avg=0.04\n",
            "[420 | 1858.85] loss=0.01 avg=0.04\n",
            "[430 | 1903.42] loss=0.01 avg=0.04\n",
            "[440 | 1947.98] loss=0.01 avg=0.04\n",
            "[450 | 1992.55] loss=0.01 avg=0.04\n",
            "[460 | 2037.08] loss=0.01 avg=0.04\n",
            "[470 | 2081.56] loss=0.01 avg=0.04\n",
            "[480 | 2126.05] loss=0.01 avg=0.04\n",
            "[490 | 2170.50] loss=0.01 avg=0.04\n",
            "[500 | 2214.97] loss=0.00 avg=0.03\n",
            "Saving checkpoint/run1/model-500\n",
            "[510 | 2262.23] loss=0.01 avg=0.03\n",
            "[520 | 2306.74] loss=0.01 avg=0.03\n",
            "[530 | 2351.29] loss=0.00 avg=0.03\n",
            "[540 | 2395.89] loss=0.01 avg=0.03\n",
            "[550 | 2440.39] loss=0.00 avg=0.03\n",
            "[560 | 2484.90] loss=0.00 avg=0.03\n",
            "[570 | 2529.41] loss=0.00 avg=0.03\n",
            "[580 | 2573.94] loss=0.00 avg=0.03\n",
            "[590 | 2618.46] loss=0.01 avg=0.03\n",
            "[600 | 2663.01] loss=0.01 avg=0.03\n",
            "[610 | 2707.53] loss=0.01 avg=0.03\n",
            "[620 | 2752.11] loss=0.01 avg=0.03\n",
            "[630 | 2796.67] loss=0.01 avg=0.03\n",
            "[640 | 2841.24] loss=0.01 avg=0.03\n",
            "[650 | 2885.83] loss=0.01 avg=0.03\n",
            "[660 | 2930.45] loss=0.01 avg=0.03\n",
            "[670 | 2975.00] loss=0.01 avg=0.03\n",
            "[680 | 3019.53] loss=0.00 avg=0.02\n",
            "[690 | 3064.11] loss=0.01 avg=0.02\n",
            "[700 | 3108.65] loss=0.00 avg=0.02\n",
            "[710 | 3153.18] loss=0.01 avg=0.02\n",
            "[720 | 3197.67] loss=0.01 avg=0.02\n",
            "[730 | 3242.21] loss=0.00 avg=0.02\n",
            "[740 | 3286.76] loss=0.00 avg=0.02\n",
            "[750 | 3331.33] loss=0.00 avg=0.02\n",
            "[760 | 3375.93] loss=0.00 avg=0.02\n",
            "[770 | 3420.51] loss=0.00 avg=0.02\n",
            "[780 | 3465.11] loss=0.01 avg=0.02\n",
            "[790 | 3509.68] loss=0.00 avg=0.02\n",
            "[800 | 3554.29] loss=0.01 avg=0.02\n",
            "[810 | 3598.88] loss=0.00 avg=0.02\n",
            "[820 | 3643.47] loss=0.01 avg=0.02\n",
            "[830 | 3688.06] loss=0.00 avg=0.02\n",
            "[840 | 3732.63] loss=0.00 avg=0.02\n",
            "[850 | 3777.24] loss=0.00 avg=0.02\n",
            "[860 | 3821.40] loss=0.00 avg=0.02\n",
            "[870 | 3865.48] loss=0.01 avg=0.02\n",
            "[880 | 3909.55] loss=0.00 avg=0.02\n",
            "[890 | 3953.62] loss=0.01 avg=0.02\n",
            "[900 | 3997.52] loss=0.01 avg=0.02\n",
            "[910 | 4041.48] loss=0.00 avg=0.02\n",
            "[920 | 4085.46] loss=0.00 avg=0.02\n",
            "[930 | 4129.42] loss=0.00 avg=0.02\n",
            "[940 | 4173.37] loss=0.00 avg=0.02\n",
            "[950 | 4217.34] loss=0.00 avg=0.02\n",
            "[960 | 4261.31] loss=0.00 avg=0.02\n",
            "[970 | 4305.34] loss=0.01 avg=0.02\n",
            "[980 | 4349.34] loss=0.00 avg=0.02\n",
            "[990 | 4393.25] loss=0.01 avg=0.02\n",
            "[1000 | 4437.23] loss=0.00 avg=0.02\n",
            "Saving checkpoint/run1/model-1000\n",
            "WARNING:tensorflow:From /usr/local/lib/python3.7/dist-packages/tensorflow/python/training/saver.py:1058: remove_checkpoint (from tensorflow.python.training.checkpoint_management) is deprecated and will be removed in a future version.\n",
            "Instructions for updating:\n",
            "Use standard file APIs to delete files with this prefix.\n"
          ]
        }
      ]
    },
    {
      "cell_type": "code",
      "metadata": {
        "id": "HRSH249DOqFA"
      },
      "source": [
        ""
      ],
      "execution_count": null,
      "outputs": []
    },
    {
      "cell_type": "markdown",
      "metadata": {
        "id": "IXSuTNERaw6K"
      },
      "source": [
        "After the model is trained, you can copy the checkpoint folder to your own Google Drive.\n",
        "\n",
        "If you want to download it to your personal computer, it's strongly recommended you copy it there first, then download from Google Drive. The checkpoint folder is copied as a `.rar` compressed file; you can download it and uncompress it locally."
      ]
    },
    {
      "cell_type": "code",
      "metadata": {
        "id": "VHdTL8NDbAh3"
      },
      "source": [
        "gpt2.copy_checkpoint_to_gdrive(run_name='run1')"
      ],
      "execution_count": null,
      "outputs": []
    },
    {
      "cell_type": "markdown",
      "metadata": {
        "id": "qQJgV_b4bmzd"
      },
      "source": [
        "You're done! Feel free to go to the **Generate Text From The Trained Model** section to generate text based on your retrained model."
      ]
    },
    {
      "cell_type": "markdown",
      "metadata": {
        "id": "pel-uBULXO2L"
      },
      "source": [
        "## Load a Trained Model Checkpoint\n",
        "\n",
        "Running the next cell will copy the `.rar` checkpoint file from your Google Drive into the Colaboratory VM."
      ]
    },
    {
      "cell_type": "code",
      "metadata": {
        "id": "DCcx5u7sbPTD"
      },
      "source": [
        "#if you are loading an existing checkpoint, start running from this cell\n",
        "gpt2.copy_checkpoint_from_gdrive(run_name='run1')"
      ],
      "execution_count": null,
      "outputs": []
    },
    {
      "cell_type": "markdown",
      "metadata": {
        "id": "RTa6zf3e_9gV"
      },
      "source": [
        "The next cell will allow you to load the retrained model checkpoint + metadata necessary to generate text.\n",
        "\n",
        "**IMPORTANT NOTE:** If you want to rerun this cell, **restart the VM first** (Runtime -> Restart Runtime). You will need to rerun imports but not recopy files."
      ]
    },
    {
      "cell_type": "code",
      "metadata": {
        "colab": {
          "base_uri": "https://localhost:8080/"
        },
        "id": "-fxL77nvAMAX",
        "outputId": "2eb58363-05bd-41c9-8ae0-0462570432a1"
      },
      "source": [
        "# dont run this if you are not loadning an existing checkpoint\n",
        "sess = gpt2.start_tf_sess()\n",
        "gpt2.load_gpt2(sess, run_name='run1')"
      ],
      "execution_count": null,
      "outputs": [
        {
          "output_type": "stream",
          "name": "stdout",
          "text": [
            "Loading checkpoint checkpoint/run1/model-1000\n",
            "INFO:tensorflow:Restoring parameters from checkpoint/run1/model-1000\n"
          ]
        }
      ]
    },
    {
      "cell_type": "markdown",
      "metadata": {
        "id": "ClJwpF_ACONp"
      },
      "source": [
        "## Generate Text From The Trained Model\n",
        "\n",
        "After you've trained the model or loaded a retrained model from checkpoint, you can now generate text. `generate` generates a single text from the loaded model."
      ]
    },
    {
      "cell_type": "code",
      "metadata": {
        "colab": {
          "base_uri": "https://localhost:8080/"
        },
        "id": "4RNY6RBI9LmL",
        "outputId": "c5021e8c-4ef8-4e40-aabb-4adf36c9f4b7"
      },
      "source": [
        "gpt2.generate(sess, run_name='run1')"
      ],
      "execution_count": null,
      "outputs": [
        {
          "output_type": "stream",
          "name": "stdout",
          "text": [
            "Abstract This paper proposes a technique for adding a new source or target language to an existing multilingual NMT model without retraining it on the initial set of languages. It consists in replacing the shared vocabulary with a small language-specific vocabulary and fine-tuning the new embeddings on the new language’s parallel data. Some additional language-specific components may be trained to improve performance (e.g., Transformer layers or adapter modules). Because the parameters of the original model are not modified, its performance on the initial languages does not degrade. We show on two sets of experiments (small-scale on TED Talks, and largescale on ParaCrawl) that this approach performs as well or better as the more costly alternatives; and that it has excellent zero-shot performance: training on English-centric data is enough to translate between the new language and any of the initial languages. Introduction Multilingual Neural Machine Translation models are trained on multilingual data to translate from and/or into multiple languages (Firat et al., 2016; Johnson et al., 2017). Multilingual NMT is a compelling approach in production, as one only needs to train, deploy and maintain one model (instead of 2 × N ones, where N is the number of languages). It has also been shown to improve MT quality for low-resource languages (at the cost of a slight degradation for high-resource languages) and it can allow translation between languages that have no aligned data (“zero-shot translation”). However, such models can be costly to train, as they usually involve larger architectures and large datasets. Moreover, because they are trained jointly on all the languages, they require to know in advance the full set of languages. Adding a new language to an existing model usually means retraining the model on the full multilingual dataset. Naively fine-tuning the original model on the new language’s data is not an option because of vocabulary mismatch (the shared vocabulary needs to be modified to include the new language’s tokens) and catastrophic forgetting (the model will quickly forget how to translate in the other languages). In this paper, we study the problem of multilingual NMT incremental training or continual learning and propose a novel way to efficiently add a new source or target language. Some desirable properties of an incremental training method are: • No degradation on the existing language pairs; • Efficient training (e.g., no re-training on the existing language pairs); • Minimal amount of added parameters: the approach should scale to many languages and the model fit on a single GPU; • Minimal degradation in inference speed; • Good zero-shot performance: when training with X-EN (or EN-X) data, where X is a new language, we would like the model to be able to translate from X to any known language Y (resp. from Y to X). We propose a novel technique for incrementally adding a new source or target language, which consists in substituting the shared embedding matrix with a language-specific embedding matrix, which is fine-tuned on the new language’s data only while freezing the other parameters of the model. In some cases (e.g., when the new language is on the target size), a small number of additional parameters (e.g., adapter modules) have to be trained to match the performance of the re-training baseline. We perform two sets of experiments, with a 20-language Transformer Base trained on TED Talks, and a 20- language Transformer Big (with deep encoder and shallow decoder) trained on ParaCrawl; and show that this approach is fast and parameter-efficient and that it performs as well or better as the more costly alternatives. We propose a new technique for incrementally training multilingual NMT models on a new source or target language. It consists in creating a new monolingual BPE vocabulary for that language, substituting the shared embedding matrix with language-specific embeddings, and training those while freezing the other model parameters. At inference, translating in any of the initial languages is done by using the initial shared embeddings, and translating in the new language is done by using the newly trained embeddings. This approach does not change performance on the initial languages as the initial parameters are kept aside and not modified. For new source languages, it can achieve close performance to the more costly and less flexible bilingual and re-training baselines. For new target languages, this technique can be combined with language-specific parameters (finetuned Transformer layers or adapter modules) to match baseline performance at a small parameter cost. We validate this technique on two sets of experiments: small-scale on TED Talks and largescale on ParaCrawl; and show that it is compatible with two architectures: Transformer Base 6-6 and Big 12-2. We also show that incremental training on data aligned with English is enough to learn to translate between the new language and any of the initial languages\n"
          ]
        }
      ]
    },
    {
      "cell_type": "markdown",
      "metadata": {
        "id": "oF4-PqF0Fl7R"
      },
      "source": [
        "If you're creating an API based on your model and need to pass the generated text elsewhere, you can do `text = gpt2.generate(sess, return_as_list=True)[0]`\n",
        "\n",
        "You can also pass in a `prefix` to the generate function to force the text to start with a given character sequence and generate text from there (good if you add an indicator when the text starts).\n",
        "\n",
        "You can also generate multiple texts at a time by specifing `nsamples`. Unique to GPT-2, you can pass a `batch_size` to generate multiple samples in parallel, giving a massive speedup (in Colaboratory, set a maximum of 20 for `batch_size`).\n",
        "\n",
        "Other optional-but-helpful parameters for `gpt2.generate` and friends:\n",
        "\n",
        "*  **`length`**: Number of tokens to generate (default 1023, the maximum)\n",
        "* **`temperature`**: The higher the temperature, the crazier the text (default 0.7, recommended to keep between 0.7 and 1.0)\n",
        "* **`top_k`**: Limits the generated guesses to the top *k* guesses (default 0 which disables the behavior; if the generated output is super crazy, you may want to set `top_k=40`)\n",
        "* **`top_p`**: Nucleus sampling: limits the generated guesses to a cumulative probability. (gets good results on a dataset with `top_p=0.9`)\n",
        "* **`truncate`**: Truncates the input text until a given sequence, excluding that sequence (e.g. if `truncate='<|endoftext|>'`, the returned text will include everything before the first `<|endoftext|>`). It may be useful to combine this with a smaller `length` if the input texts are short.\n",
        "*  **`include_prefix`**: If using `truncate` and `include_prefix=False`, the specified `prefix` will not be included in the returned text."
      ]
    },
    {
      "cell_type": "code",
      "metadata": {
        "colab": {
          "base_uri": "https://localhost:8080/"
        },
        "id": "8DKMc0fiej4N",
        "outputId": "1c0cfacc-9f21-4d61-9c3c-9d4a729bd390"
      },
      "source": [
        "gpt2.generate(sess,\n",
        "              length=100,\n",
        "              temperature=0.7,\n",
        "              prefix=seed,\n",
        "              nsamples=1,\n",
        "              batch_size=1\n",
        "              )"
      ],
      "execution_count": null,
      "outputs": [
        {
          "output_type": "stream",
          "name": "stdout",
          "text": [
            "ï»¿Abstract Relation extraction in the biomedical domain is a challenging task due to a lack of labeled data and a long-tail distribution of fact triples. Many works leverage distant supervision which automatically generates labeled data by pairing a knowledge graph with raw textual data. Distant supervision produces noisy labels and requires additional techniques, such as multi-instance learning (MIL), to denoise the training signal. However, MIL requires multiple instances of data and struggles with very long-tail datasets such as those found in the biomedical domain. In this work, we propose a novel reformulation of MIL for biomedical relation extraction that abstractifies biomedical entities into their corresponding semantic types. By grouping entities by types, we are better able to take advantage of the benefits of MIL and further denoise the training signal. We\n"
          ]
        }
      ]
    },
    {
      "cell_type": "markdown",
      "metadata": {
        "id": "zjjEN2Tafhl2"
      },
      "source": [
        "For bulk generation, you can generate a large amount of text to a file and sort out the samples locally on your computer. The next cell will generate a generated text file with a unique timestamp.\n",
        "\n",
        "You can rerun the cells as many times as you want for even more generated texts!"
      ]
    },
    {
      "cell_type": "code",
      "metadata": {
        "id": "Fa6p6arifSL0"
      },
      "source": [
        "#gen_file = 'gpt2_gentext_{:%Y%m%d_%H%M%S}.txt'.format(datetime.utcnow())\n",
        "gen_file = 'Output.txt'\n",
        "\n",
        "gpt2.generate_to_file(sess,\n",
        "                      destination_path=gen_file,\n",
        "                      length=100,\n",
        "                      temperature=0.7,\n",
        "                      prefix=seed,\n",
        "                      nsamples=1,\n",
        "                      batch_size=1\n",
        "                      )"
      ],
      "execution_count": null,
      "outputs": []
    },
    {
      "cell_type": "code",
      "metadata": {
        "colab": {
          "base_uri": "https://localhost:8080/"
        },
        "id": "gfO5thn3K_o8",
        "outputId": "feba2f23-cf6d-41c5-c1ca-3137494b7d20"
      },
      "source": [
        "# No need to run these individual code segments\n",
        "#code segment to make the fake file length equal to original file\n",
        "output_file_name = 'Output.txt'\n",
        "output_file = open(output_file_name, encoding='latin1')\n",
        "output_data = output_file.read()\n",
        "output_words = output_data.split()\n",
        "\n",
        "print('Number of words in output file :', len(output_words))\n",
        "output_substring = output_words[-51:-1]\n",
        "output_seed = ' '.join(output_substring)\n",
        "print(output_seed)\n",
        "final_substring = output_words[-len(output_words):-52]\n",
        "String_final = ' '.join(final_substring)\n",
        "print(String_final)"
      ],
      "execution_count": null,
      "outputs": [
        {
          "output_type": "stream",
          "text": [
            "Number of words in output file : 711\n",
            "considered one language just a few years ago, the most closely related languages in this group are Czech and Slovak. This fact has led us to an experiment with automatic translation between Czech and Slovak. It was clear that application of a similar method to that one used in the\n",
            "Using examples of the transfer-based MT system between Czech and Russian RUSLAN and the word-for-word MT system with morphological disambiguation between Czech and Slovak CESILKO we argue that for really close languages it is possible to obtain better translation quality by means of simpler methods. The problem of translation to a group of typologically similar languages is also discussed here. 3. Translation and localization 2.1 A pivot language Localization of products and their documentation is a great problem for any company, which wants to strengthen its position on foreign language market, especially for companies producing various kinds of software. The amounts of texts being localized are huge and the localization costs are huge as well. It is quite clear that the localization from one source language to several target languages, which are typologically similar, but different from the source language, is a waste of money and effort. It is of course much easier to translate texts from Czech to Polish or from Russian to Bulgarian than from English or German to any of these languages. There are several reasons, why localization and translation is not being performed through some pivot language, representing a certain group of closely related languages. Apart from political reasons the translation through a pivot language has several drawbacks. The most important one is the problem of the loss of translation quality. Each translation may to a certain extent shift the meaning of the translated text and thus each subsequent translation provides results more and more different from the original. The second most important reason is the lack of translators from the pivot to the target language, while this is usually no problem for the translation from the source directly to the target language. 2.2 Translation memory is the key The main goal of this paper is to suggest how to overcome these obstacles by means of a combination of an MT system with commercial MAHT (Machine-aided human translation) systems. We have chosen the TRADOS Translator's Workbench as a representative system of a class of these products, which can be characterized as an example-based translation tools. IBM's Translation Manager and other products also belong to this class. Such systems uses so-called translation memory, which contains pairs of previously translated sentences from a source to a target language. When a human translator starts translating a new sentence, the system tries to match the source with sentences already stored in the translation memory. If it is successful, it suggests the translation and the human translator decides whether to use it, to modify it or to reject it. The segmentation of a translation memory is a key feature for our system. The translation memory may be exported into a text file and thus allows easy manipulation with its content. Let us suppose that we have at our disposal two translation memories one human made for the source/pivot language pair and the other created by an MT system for the pivot/target language pair. The substitution of segments of a pivot language by the segments of a target language is then only a routine procedure. The human translator translating from the source language to the target language then gets a translation memory for the required pair (source/target). The system of penalties applied in TRADOS Translator's Workbench (or a similar system) guarantees that if there is already a human-made translation present, then it gets higher priority than the translation obtained as a result of the automatic MT. This system solves both problems mentioned above the human translators from the pivot to the target language are not needed at all and the machine- made translation memory serves only as a resource supporting the direct human translation from the source to the target language. 3. Machine translation of (very) closely related Slavic languages In the group of Slavic languages, there are more closely related languages than Czech and Russian. Apart from the pair of Serbian and Croatian languages, which are almost identical and were\n"
          ],
          "name": "stdout"
        }
      ]
    },
    {
      "cell_type": "code",
      "metadata": {
        "id": "qBSlz5llUOEA"
      },
      "source": [
        "# No need to run these individual code segments\n",
        "while(len(output_final_words) < len(words) ):\n",
        "\n",
        "  with open('Output_final.txt', 'a') as f:\n",
        "    f.write(String_final)\n",
        "    f.close()\n",
        "\n",
        "  gen_file = 'Output.txt'\n",
        "  gpt2.generate_to_file(sess,\n",
        "                      destination_path=gen_file,\n",
        "                      length=1023,\n",
        "                      temperature=0.7,\n",
        "                      prefix=output_seed,\n",
        "                      nsamples=1,\n",
        "                      batch_size=1\n",
        "                      )\n",
        "  \n",
        "  output_file_name = 'Output.txt'\n",
        "  output_file = open(output_file_name, encoding='latin1')\n",
        "  output_data = output_file.read()\n",
        "  output_words = output_data.split()\n",
        "  print('Number of words in output file :', len(output_words))\n",
        "  output_substring = output_words[-51:-1]\n",
        "  output_seed = ' '.join(output_substring)\n",
        "  #print(output_seed)\n",
        "  final_substring = output_words[-len(output_words):-52]\n",
        "  String_final = ' '.join(final_substring)\n",
        "  #print(String_final)\n",
        "  output_final_file = open('Output_final.txt', encoding='latin1')\n",
        "  output_final_data = output_final_file.read()\n",
        "  output_final_words = output_final_data.split()\n",
        "  print('Number of words in final output file :', len(output_final_words))\n",
        "  \n",
        "  #print(\"Do it\")"
      ],
      "execution_count": null,
      "outputs": []
    },
    {
      "cell_type": "code",
      "metadata": {
        "colab": {
          "base_uri": "https://localhost:8080/"
        },
        "id": "GEJKAWyTsUL1",
        "outputId": "70c2faf7-b559-4c90-f309-363fe48d8e00"
      },
      "source": [
        "#Everything together in this code. Therefore no need to run the previous three\n",
        "String_final=''\n",
        "output_seed = seed\n",
        "\n",
        "while True:\n",
        "  with open('Output_final.txt', 'a') as f:\n",
        "    f.write(String_final)\n",
        "    f.close()\n",
        "\n",
        "  gen_file = 'Output.txt'\n",
        "  gpt2.generate_to_file(sess,\n",
        "                      destination_path=gen_file,\n",
        "                      length=1023,\n",
        "                      temperature=0.7,\n",
        "                      prefix=output_seed,\n",
        "                      nsamples=1,\n",
        "                      batch_size=1\n",
        "                      )\n",
        "  \n",
        "  output_file_name = 'Output.txt'\n",
        "  output_file = open(output_file_name, encoding='latin1')\n",
        "  output_data = output_file.read()\n",
        "  output_words = output_data.split()\n",
        "  print('Number of words in output file :', len(output_words))\n",
        "  output_substring = output_words[-51:-1]\n",
        "  output_seed = ' '.join(output_substring)\n",
        "  #print(output_seed)\n",
        "  final_substring = output_words[-len(output_words):-52]\n",
        "  String_final = ' '.join(final_substring)\n",
        "  #print(String_final)\n",
        "\n",
        "  output_final_file = open('Output_final.txt', encoding='latin1')\n",
        "  output_final_data = output_final_file.read()\n",
        "  output_final_words = output_final_data.split()\n",
        "  print('Number of words in final output file :', len(output_final_words))\n",
        "\n",
        "  if (len(output_final_words) > len(words) ):\n",
        "    break"
      ],
      "execution_count": null,
      "outputs": [
        {
          "output_type": "stream",
          "name": "stdout",
          "text": [
            "Number of words in output file : 787\n",
            "Number of words in final output file : 1\n",
            "Number of words in output file : 757\n",
            "Number of words in final output file : 735\n",
            "Number of words in output file : 755\n",
            "Number of words in final output file : 1439\n",
            "Number of words in output file : 760\n",
            "Number of words in final output file : 2141\n"
          ]
        }
      ]
    },
    {
      "cell_type": "code",
      "metadata": {
        "colab": {
          "base_uri": "https://localhost:8080/"
        },
        "id": "ybMJjY3C8ejm",
        "outputId": "c96c7a07-fe38-4ede-f50f-d151b0f8b897"
      },
      "source": [
        "#code to make the fake file length equal to original file length\n",
        "difference = len(output_final_words) - len(words)\n",
        "#print(difference)\n",
        "first = len(output_final_words)\n",
        "last = difference \n",
        "Final_fake_text = output_final_words[-first:-last]\n",
        "Final_fake_text_for_the_fake_file = ' '.join(Final_fake_text)\n",
        "print(Final_fake_text_for_the_fake_file)\n",
        "with open('Final_fake_file.txt', 'w') as f:\n",
        "  f.write(Final_fake_text_for_the_fake_file)\n",
        "  f.close()\n"
      ],
      "execution_count": null,
      "outputs": [
        {
          "output_type": "stream",
          "name": "stdout",
          "text": [
            "ï»¿ÃÂ¯ÃÂ»ÃÂ¿Abstract Relation extraction in the biomedical domain is a challenging task due to a lack of labeled data and a long-tail distribution of fact triples. Many works leverage distant supervision which automatically generates labeled data by pairing a knowledge graph with raw textual data. Distant supervision produces noisy labels and requires additional techniques, such as multi-instance learning (MIL), to denoise the training signal. However, MIL requires multiple instances of data and struggles with very long-tail datasets such as those found in the biomedical domain. In this work, we propose a novel reformulation of MIL for biomedical relation extraction that abstractifies biomedical entities into their corresponding semantic types. By grouping entities by types, we are better able to take advantage of the benefits of MIL and further denoise the training signal. We show this reformulation, which we refer to as abstractified multi-instance learning (AMIL), improves performance in biomedical relationship extraction. We also propose a novel relationship embedding architecture that further improves model performance. Introduction Relation extraction (RE) is a key facet of information extraction in large bodies of unstructured textual data. RE is particularly important in the biomedical domain where extracting relationships between pairs of biomedical entities, also known as \\fact triples\", can produce new insights into complicated biological interactions. For instance, with the near-exponential growth of microbiome research [Sa'ed et al., 2019], advanced RE methods may help discover important links between gut microbiota and diseases. It is in this context that we motivate our work. RE within the biomedical domain comes with two inherent challenges: there are more than 30 million scientific articles, with hundreds of thousands of articles published every year, and there is a corresponding lack of labeled data. To resolve these challenges, many have leveraged distant supervision techniques which pair knowledge graphs with raw textual data to automatically generate labels to train deep-learning models [Gu et al., 2019, Su et al., 2019, Junge and Jensen, 2019]. We seek to improve distantly supervised biomedical RE methods in this work. We use the Unified Medical Language System (UMLS) Metathesaurus [Bodenreider, 2004] for our knowledge graph and pair it with raw textual data from PubMed [Canese and Weis, 2013]. To automatically generate labels, distantly supervised RE methods rely on a simple yet powerful assumption: any singular sentence that contains a pair of entities also expresses a relationship, as determined by the accompanying knowledge graph, between those entities [Mintz et al., 2009]. However, this assumption leads to a noisy training signal with many false positives as not all sentences express a relationship between an entity pair. To combat this, many works have leveraged multi instance learning (MIL) [Riedel et al., 2010, Homann et al., 2011, Zeng et al., 2015] where, instead of assessing single sentences, MIL assesses positive and negative bags of sentences that contain the same entity pair. Grouping sentences into bags greatly reduces noise in the training signal since a bag of sentences is more likely to express a relationship than a single sentence. This enables the model to better classify relationships between unseen entity pairs. However, similar to many NLP tasks, biomedical RE users from a long-tail distribution of fact triples, where many entity pairs are only supported by a few sentences of evidence. After processing the PubMed corpus, we observe that a majority (52%) of extracted triples are supported by fewer than three sentences. Creating bags of sentences for such entity pairs requires heavy up-sampling. For example, if a pair of entities is only supported by one sentence and a bag size is equal to 16 sentences, the single sentence is duplicated 15 times to ll the bag. This erases the benet of MIL. To counter this issue, we introduce abstractified multi-instance learning (AMIL) where, instead of grouping entity pairs by name, we group entities by the corresponding semantic type as determined by UMLS. UMLS categorizes each entity with a semantic type within the UMLS semantic network. The UMLS semantic network is curated by human experts for decades and provides a rich ontology of biomedical concepts which we leverage to group multiple di erent entity pairs within a single MIL bag, reducing the need to up-sample sentences. For example, consider two sentences: (1) a sentence containing the entity pair (bula, tibia) and (2) a second sentence containing the entity pair (humerus, ulna). With distant supervision, we assume each sentence expresses the relationship linking both pairs, namely articulates with. Despite expressing the samewithout abstraction, these sentences are placed into separate MIL bags since bags are grouped by distinct entity pairs. By introducing abstractied multi-instance learning, the entities bula, tibia, humerus, and ulna are grouped by their corresponding UMLS semantic type|\\Body Part, Organ, or Organ Component.\" This allows us to place the aforementioned sentences into the same MIL bag based on their entity type, creating a heterogeneous bag of entity pairs that express the same relationship. With this reformulation, bags containing a single duplicated sentence are reduced by half. AMIL produces better overall performance for biomedical RE with significant performance gains for \\rare\" triples. Here, we dene \\rare\" triples as triples that are supported by fewer than eight sentences. These triples make up roughly 80% of the long-tail distribution of triples. We also take inspiration from Soares et al.(2019) and conduct a suite of experiments with variations of relationship embedding architectures. Such experiments are underexplored in the biomedical domain and many are novel to the general task of relationship classification. Soares et al. report the best RE performance using a relationship representation consisting of embedded entity start markers|special span tokens that denote the beginning of an entity. We test this RE architecture in the biomedical domain and also test the performance of entity end markers. Moreover, we introduce a novel relationship representation, namely the middle mention pool, which pools word pieces between head and tail entities. This embedding architecture is inspired by the observation that context between two biomedical entities in a sentence often contains the information-rich and relationship-relevant signal. Our best performing relationship embedding architecture results from the combination of both entity end markers and the middle mention pool. We observe that this architecture further increases the performance of our relation classification model. In this paper, we make the following contributions:Ã¢ÂÂ¢ We introduce abstractified multiple-instance learning (AMIL), which achieves new state-of-the art performance for biomedical relationship extraction. We also report significant performance gains for rare fact triples. Ã¢ÂÂ¢We propose an improved relationship representation for biomedical relation extraction. We show that concatenating embedding tokens from entity end markers with the middle mention pool produces the best performing model. Ã¢ÂÂ¢We make all our code, saved models, and preprocessing scripts publicly available1 to facilitate future biomedical RE eorts. Pre-processing scripts can impact model performance and are important to prepare an up-to-date, ready-for-RE dataset from ever-growing PubMed and UMLS. Our results in Section 5 show that using updated pre-processing tools can improve model performance by 10%. Related Work. Early works combining distant supervision with relation extraction [Bunescu and Mooney, 2007, Craven and Kumlien, 1999] relied on the strong assumption claiming that, if a relationship between two entities exists, then all sentences containing those entities express the corresponding relationship. This assumption was relaxed by Riedel et al. (2010) with the introduction of multi-instance learning (MIL) which claimed that if a relationship exists between two entities, at least one sentence that contains the two entities may express the corresponding relation. Homann et al. (2011) build on the work of Riedel et al. by allowing for overlapping relations. Zeng et al. (2015) extend distantly supervised RE by combining MIL with a novel piecewise convolutional neural network (PCNN). Lin et al. (2016) made further improvements by introducing an attention mechanism that attends to relevant information in a bag of sentences. This sentence-level attention mechanism for MIL inspired numerous subsequent works [Luo et al., 2017, Han et al., 2018a, Alt et al., 2019]. Han et al. (2018a) propose a joint training RE model that combines a knowledge graph with an attention mechanism and MIL. Dai et al. (2019) extend the work by Han et al. into the biomedical domain and use a PCNN for sentence encoding. Amin et al.(2020) propose an RE model that uses BioBERT [Lee et al., 2019], a pre trained transformer based on bert [Devlin et al., 2019], for sentence encoding. They leverage MIL with entity-marking methods following R-BERT [Wu and He, 2019] and achieve the best performance when the directionality of extracted triples is matched to the directionality from the UMLS knowledge graph. Notably, the model proposed by Amin et al.(2020) does not benet from sentence-level attention. We choose the model proposed by Amin et al.(2020) for our baseline model as itthe current state-of-the-art (SOTA) in biomedical RE. We also conduct a suite of experiments with variations of relationship embedding architectures. These experiments are inspired by Soares et al. (2019) who conduct experiments with six different embedding architectures and report performance on general-domain RE datasets. They show that constructing a relationship embedding architecture for biomedical RE requires heavy up-sampling. For example, if a pair of entities is only supported by one sentence and a bag size is equal to 16 sentences, the single sentence is duplicated 15 times to ll the bag. This erases the benet of MIL. To counter this issue, we introduce abstractified multi-instance learning (AMIL) where, instead of grouping entity pairs by name, we group entities by the corresponding semantic type as determined by UMLS. UMLS categorizes each entity with a semantic type within the UMLS semantic network. The UMLS semantic network is curated by human experts for decades and provides a rich ontology of biomedical concepts which we leverage to group multiple di erent entity pairs within a single MIL bag, reducing the need to up-sample sentences. For example, consider two sentences:\n"
          ]
        }
      ]
    },
    {
      "cell_type": "code",
      "metadata": {
        "id": "0-LRex8lfv1g"
      },
      "source": [
        "# may have to run twice to get file to download\n",
        "files.download(gen_file)"
      ],
      "execution_count": null,
      "outputs": []
    },
    {
      "cell_type": "markdown",
      "metadata": {
        "id": "QQAN3M6RT7Kj"
      },
      "source": [
        "## Generate Text From The Pretrained Model\n",
        "\n",
        "If you want to generate text from the pretrained model, not a finetuned model, pass `model_name` to `gpt2.load_gpt2()` and `gpt2.generate()`.\n",
        "\n",
        "This is currently the only way to generate text from the 774M or 1558M models with this notebook."
      ]
    },
    {
      "cell_type": "code",
      "metadata": {
        "colab": {
          "base_uri": "https://localhost:8080/",
          "height": 158
        },
        "id": "hsUd_jHgUZnD",
        "outputId": "4e0c8a3f-3527-41c4-e3fe-3357f3f8f6c2"
      },
      "source": [
        "model_name = \"774M\"\n",
        "\n",
        "gpt2.download_gpt2(model_name=model_name)"
      ],
      "execution_count": null,
      "outputs": [
        {
          "output_type": "stream",
          "text": [
            "Fetching checkpoint: 1.05Mit [00:00, 354Mit/s]                                                      \n",
            "Fetching encoder.json: 1.05Mit [00:00, 131Mit/s]                                                    \n",
            "Fetching hparams.json: 1.05Mit [00:00, 279Mit/s]                                                    \n",
            "Fetching model.ckpt.data-00000-of-00001: 3.10Git [00:23, 131Mit/s]                                  \n",
            "Fetching model.ckpt.index: 1.05Mit [00:00, 380Mit/s]                                                \n",
            "Fetching model.ckpt.meta: 2.10Mit [00:00, 226Mit/s]                                                 \n",
            "Fetching vocab.bpe: 1.05Mit [00:00, 199Mit/s]                                                       \n"
          ],
          "name": "stderr"
        }
      ]
    },
    {
      "cell_type": "code",
      "metadata": {
        "colab": {
          "base_uri": "https://localhost:8080/",
          "height": 124
        },
        "id": "BAe4NpKNUj2C",
        "outputId": "b09bfe1d-2ff8-4b8a-fffb-273d28d5d4ae"
      },
      "source": [
        "sess = gpt2.start_tf_sess()\n",
        "\n",
        "gpt2.load_gpt2(sess, model_name=model_name)"
      ],
      "execution_count": null,
      "outputs": [
        {
          "output_type": "stream",
          "text": [
            "WARNING: Logging before flag parsing goes to stderr.\n",
            "W0828 18:37:58.571830 139905369159552 deprecation.py:323] From /usr/local/lib/python3.6/dist-packages/tensorflow/python/training/saver.py:1276: checkpoint_exists (from tensorflow.python.training.checkpoint_management) is deprecated and will be removed in a future version.\n",
            "Instructions for updating:\n",
            "Use standard file APIs to check for files with this prefix.\n"
          ],
          "name": "stderr"
        },
        {
          "output_type": "stream",
          "text": [
            "Loading pretrained model models/774M/model.ckpt\n"
          ],
          "name": "stdout"
        }
      ]
    },
    {
      "cell_type": "code",
      "metadata": {
        "colab": {
          "base_uri": "https://localhost:8080/",
          "height": 797
        },
        "id": "-xInIZKaU104",
        "outputId": "56348e28-7d08-45e3-c859-f26c0efd066d"
      },
      "source": [
        "gpt2.generate(sess,\n",
        "              model_name=model_name,\n",
        "              prefix=\"The secret of life is\",\n",
        "              length=100,\n",
        "              temperature=0.7,\n",
        "              top_p=0.9,\n",
        "              nsamples=5,\n",
        "              batch_size=5\n",
        "              )"
      ],
      "execution_count": null,
      "outputs": [
        {
          "output_type": "stream",
          "text": [
            "The secret of life is that it's really easy to make it complicated,\" said Bill Nye, the host of the popular science show \"Bill Nye the Science Guy.\" \"And this is one of the reasons why we all need to be smarter about science, because we can't keep up with the amazing things that are going on all the time.\"\n",
            "\n",
            "While Nye is correct that \"everything that's going on all the time\" is making the world a better place, he misses the point. This is not\n",
            "====================\n",
            "The secret of life is in the rhythm of the universe. It's not a mystery. It's not a mystery to me. It's the nature of the universe. It's the beauty of the universe. It's the way the universe works. It's the way the universe is. It's the way the universe is going to work. It's the way the universe is. It's the way the universe is. It's the way the universe is. It's the way the universe is. It's the way\n",
            "====================\n",
            "The secret of life is in the universe.\n",
            "\n",
            "\n",
            "-\n",
            "\n",
            "The Red Devil\n",
            "\n",
            "It's the end of the world as we know it, and the only thing that can save us is a band of super-powered individuals known as the Red Devil.\n",
            "\n",
            "\n",
            "The Red Devil is a group of super-powered individuals who are seeking the secret of life and the only way they know how to do it is by taking on the roles of a variety of different super-powered individuals, each of which has their own\n",
            "====================\n",
            "The secret of life is in the mixing of the elements, and it is the mixing of the elements that makes life possible.\"\n",
            "\n",
            "But in the world of food science, the idea of a \"complex\" or \"complexity\" is almost entirely imaginary.\n",
            "\n",
            "As a scientist, I'm fascinated by the question of how life first began.\n",
            "\n",
            "It's the question that drives my work and the work of the scientists who work on it.\n",
            "\n",
            "My current research is exploring how microbes work in the first moments\n",
            "====================\n",
            "The secret of life is the journey of life, the search for the truth.\n",
            "\n",
            "4.4.2. The last thing you know\n",
            "\n",
            "There is nothing more important than the last thing you know.\n",
            "\n",
            "4.4.3. The little things that make all the difference\n",
            "\n",
            "The little things that make all the difference.\n",
            "\n",
            "4.4.4. The truth is the best teacher\n",
            "\n",
            "The truth is the best teacher.\n",
            "\n",
            "4.4.5. The truth is what\n",
            "====================\n"
          ],
          "name": "stdout"
        }
      ]
    },
    {
      "cell_type": "markdown",
      "metadata": {
        "id": "ig-KVgkCDCKD"
      },
      "source": [
        "# Etcetera\n",
        "\n",
        "If the notebook has errors (e.g. GPU Sync Fail), force-kill the Colaboratory virtual machine and restart it with the command below:"
      ]
    },
    {
      "cell_type": "code",
      "metadata": {
        "id": "rIHiVP53FnsX"
      },
      "source": [
        "!kill -9 -1"
      ],
      "execution_count": null,
      "outputs": []
    },
    {
      "cell_type": "markdown",
      "metadata": {
        "id": "wmTXWNUygS5E"
      },
      "source": [
        "# LICENSE\n",
        "\n",
        "MIT License\n",
        "\n",
        "Copyright (c) 2019 Max Woolf\n",
        "\n",
        "Permission is hereby granted, free of charge, to any person obtaining a copy\n",
        "of this software and associated documentation files (the \"Software\"), to deal\n",
        "in the Software without restriction, including without limitation the rights\n",
        "to use, copy, modify, merge, publish, distribute, sublicense, and/or sell\n",
        "copies of the Software, and to permit persons to whom the Software is\n",
        "furnished to do so, subject to the following conditions:\n",
        "\n",
        "The above copyright notice and this permission notice shall be included in all\n",
        "copies or substantial portions of the Software.\n",
        "\n",
        "THE SOFTWARE IS PROVIDED \"AS IS\", WITHOUT WARRANTY OF ANY KIND, EXPRESS OR\n",
        "IMPLIED, INCLUDING BUT NOT LIMITED TO THE WARRANTIES OF MERCHANTABILITY,\n",
        "FITNESS FOR A PARTICULAR PURPOSE AND NONINFRINGEMENT. IN NO EVENT SHALL THE\n",
        "AUTHORS OR COPYRIGHT HOLDERS BE LIABLE FOR ANY CLAIM, DAMAGES OR OTHER\n",
        "LIABILITY, WHETHER IN AN ACTION OF CONTRACT, TORT OR OTHERWISE, ARISING FROM,\n",
        "OUT OF OR IN CONNECTION WITH THE SOFTWARE OR THE USE OR OTHER DEALINGS IN THE\n",
        "SOFTWARE."
      ]
    }
  ]
}